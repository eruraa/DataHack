{
  "metadata": {
    "kernelspec": {
      "name": "python",
      "display_name": "Python (Pyodide)",
      "language": "python"
    },
    "language_info": {
      "codemirror_mode": {
        "name": "python",
        "version": 3
      },
      "file_extension": ".py",
      "mimetype": "text/x-python",
      "name": "python",
      "nbconvert_exporter": "python",
      "pygments_lexer": "ipython3",
      "version": "3.8"
    }
  },
  "nbformat_minor": 4,
  "nbformat": 4,
  "cells": [
    {
      "cell_type": "code",
      "source": "import pandas as pd\nimport numpy as np\nfrom sklearn.model_selection import train_test_split\nfrom sklearn.preprocessing import StandardScaler\nfrom sklearn.ensemble import RandomForestClassifier\nfrom sklearn.multioutput import MultiOutputClassifier\nfrom sklearn.metrics import roc_auc_score\nimport matplotlib.pyplot as plt\n",
      "metadata": {
        "trusted": true
      },
      "outputs": [],
      "execution_count": 1
    },
    {
      "cell_type": "code",
      "source": "\ntrain_features = pd.read_csv('training_set_features.csv')\ntrain_labels = pd.read_csv('training_set_labels.csv')\ntest_features = pd.read_csv('test_set_features.csv')\nsubmission_format = pd.read_csv('submission_format.csv')\n\nprint(\"Training Features:\")\nprint(train_features.head())\nprint(\"\\nTraining Labels:\")\nprint(train_labels.head())\nprint(\"\\nTest Features:\")\nprint(test_features.head())\nprint(\"\\nSubmission Format:\")\nprint(submission_format.head())\n",
      "metadata": {
        "trusted": true
      },
      "outputs": [
        {
          "name": "stdout",
          "text": "Training Features:\n   respondent_id  xyz_concern  xyz_knowledge  behavioral_antiviral_meds  \\\n0              0          1.0            0.0                        0.0   \n1              1          3.0            2.0                        0.0   \n2              2          1.0            1.0                        0.0   \n3              3          1.0            1.0                        0.0   \n4              4          2.0            1.0                        0.0   \n\n   behavioral_avoidance  behavioral_face_mask  behavioral_wash_hands  \\\n0                   0.0                   0.0                    0.0   \n1                   1.0                   0.0                    1.0   \n2                   1.0                   0.0                    0.0   \n3                   1.0                   0.0                    1.0   \n4                   1.0                   0.0                    1.0   \n\n   behavioral_large_gatherings  behavioral_outside_home  \\\n0                          0.0                      1.0   \n1                          0.0                      1.0   \n2                          0.0                      0.0   \n3                          1.0                      0.0   \n4                          1.0                      0.0   \n\n   behavioral_touch_face  ...             income_poverty  marital_status  \\\n0                    1.0  ...              Below Poverty     Not Married   \n1                    1.0  ...              Below Poverty     Not Married   \n2                    0.0  ...  <= $75,000, Above Poverty     Not Married   \n3                    0.0  ...              Below Poverty     Not Married   \n4                    1.0  ...  <= $75,000, Above Poverty         Married   \n\n   rent_or_own   employment_status  hhs_geo_region                census_msa  \\\n0          Own  Not in Labor Force        oxchjgsf                   Non-MSA   \n1         Rent            Employed        bhuqouqj  MSA, Not Principle  City   \n2          Own            Employed        qufhixun  MSA, Not Principle  City   \n3         Rent  Not in Labor Force        lrircsnp       MSA, Principle City   \n4          Own            Employed        qufhixun  MSA, Not Principle  City   \n\n   household_adults  household_children  employment_industry  \\\n0               0.0                 0.0                  NaN   \n1               0.0                 0.0             pxcmvdjn   \n2               2.0                 0.0             rucpziij   \n3               0.0                 0.0                  NaN   \n4               1.0                 0.0             wxleyezf   \n\n   employment_occupation  \n0                    NaN  \n1               xgwztkwe  \n2               xtkaffoo  \n3                    NaN  \n4               emcorrxb  \n\n[5 rows x 36 columns]\n\nTraining Labels:\n   respondent_id  xyz_vaccine  seasonal_vaccine\n0              0            0                 0\n1              1            0                 1\n2              2            0                 0\n3              3            0                 1\n4              4            0                 0\n\nTest Features:\n   respondent_id  xyz_concern  xyz_knowledge  behavioral_antiviral_meds  \\\n0          26707          2.0            2.0                        0.0   \n1          26708          1.0            1.0                        0.0   \n2          26709          2.0            2.0                        0.0   \n3          26710          1.0            1.0                        0.0   \n4          26711          3.0            1.0                        1.0   \n\n   behavioral_avoidance  behavioral_face_mask  behavioral_wash_hands  \\\n0                   1.0                   0.0                    1.0   \n1                   0.0                   0.0                    0.0   \n2                   0.0                   1.0                    1.0   \n3                   0.0                   0.0                    0.0   \n4                   1.0                   0.0                    1.0   \n\n   behavioral_large_gatherings  behavioral_outside_home  \\\n0                          1.0                      0.0   \n1                          0.0                      0.0   \n2                          1.0                      1.0   \n3                          0.0                      0.0   \n4                          1.0                      1.0   \n\n   behavioral_touch_face  ...             income_poverty  marital_status  \\\n0                    1.0  ...                  > $75,000     Not Married   \n1                    0.0  ...              Below Poverty     Not Married   \n2                    1.0  ...                  > $75,000         Married   \n3                    0.0  ...  <= $75,000, Above Poverty         Married   \n4                    1.0  ...  <= $75,000, Above Poverty     Not Married   \n\n   rent_or_own   employment_status  hhs_geo_region                census_msa  \\\n0         Rent            Employed        mlyzmhmf  MSA, Not Principle  City   \n1         Rent            Employed        bhuqouqj                   Non-MSA   \n2          Own            Employed        lrircsnp                   Non-MSA   \n3          Own  Not in Labor Force        lrircsnp  MSA, Not Principle  City   \n4          Own            Employed        lzgpxyit                   Non-MSA   \n\n   household_adults  household_children  employment_industry  \\\n0               1.0                 0.0             atmlpfrs   \n1               3.0                 0.0             atmlpfrs   \n2               1.0                 0.0             nduyfdeo   \n3               1.0                 0.0                  NaN   \n4               0.0                 1.0             fcxhlnwr   \n\n   employment_occupation  \n0               hfxkjkmi  \n1               xqwwgdyp  \n2               pvmttkik  \n3                    NaN  \n4               mxkfnird  \n\n[5 rows x 36 columns]\n\nSubmission Format:\n   respondent_id  h1n1_vaccine  seasonal_vaccine\n0          26707           0.5               0.7\n1          26708           0.5               0.7\n2          26709           0.5               0.7\n3          26710           0.5               0.7\n4          26711           0.5               0.7\n",
          "output_type": "stream"
        }
      ],
      "execution_count": 2
    },
    {
      "cell_type": "code",
      "source": "\ntrain_features = train_features.drop('respondent_id', axis=1)\ntest_features_ids = test_features['respondent_id']\ntest_features = test_features.drop('respondent_id', axis=1)\n\nprint(train_features.isnull().sum())\nprint(test_features.isnull().sum())\n\n\ntrain_features = train_features.fillna(train_features.mean())\ntest_features = test_features.fillna(test_features.mean())\n\n\ntrain_features = pd.get_dummies(train_features, drop_first=True)\ntest_features = pd.get_dummies(test_features, drop_first=True)\n\ntrain_features, test_features = train_features.align(test_features, join='left', axis=1, fill_value=0)\n\nX = train_features\ny = train_labels[['xyz_vaccine', 'seasonal_vaccine']]\n\nscaler = StandardScaler()\nX_scaled = scaler.fit_transform(X)\ntest_features_scaled = scaler.transform(test_features)\n",
      "metadata": {
        "trusted": true
      },
      "outputs": [
        {
          "name": "stdout",
          "text": "xyz_concern                       92\nxyz_knowledge                    116\nbehavioral_antiviral_meds         71\nbehavioral_avoidance             208\nbehavioral_face_mask              19\nbehavioral_wash_hands             42\nbehavioral_large_gatherings       87\nbehavioral_outside_home           82\nbehavioral_touch_face            128\ndoctor_recc_xyz                 2160\ndoctor_recc_seasonal            2160\nchronic_med_condition            971\nchild_under_6_months             820\nhealth_worker                    804\nhealth_insurance               12274\nopinion_xyz_vacc_effective       391\nopinion_xyz_risk                 388\nopinion_xyz_sick_from_vacc       395\nopinion_seas_vacc_effective      462\nopinion_seas_risk                514\nopinion_seas_sick_from_vacc      537\nage_group                          0\neducation                       1407\nrace                               0\nsex                                0\nincome_poverty                  4423\nmarital_status                  1408\nrent_or_own                     2042\nemployment_status               1463\nhhs_geo_region                     0\ncensus_msa                         0\nhousehold_adults                 249\nhousehold_children               249\nemployment_industry            13330\nemployment_occupation          13470\ndtype: int64\nxyz_concern                       85\nxyz_knowledge                    122\nbehavioral_antiviral_meds         79\nbehavioral_avoidance             213\nbehavioral_face_mask              19\nbehavioral_wash_hands             40\nbehavioral_large_gatherings       72\nbehavioral_outside_home           82\nbehavioral_touch_face            128\ndoctor_recc_xyz                 2160\ndoctor_recc_seasonal            2160\nchronic_med_condition            932\nchild_under_6_months             813\nhealth_worker                    789\nhealth_insurance               12228\nopinion_xyz_vacc_effective       398\nopinion_xyz_risk                 380\nopinion_xyz_sick_from_vacc       375\nopinion_seas_vacc_effective      452\nopinion_seas_risk                499\nopinion_seas_sick_from_vacc      521\nage_group                          0\neducation                       1407\nrace                               0\nsex                                0\nincome_poverty                  4497\nmarital_status                  1442\nrent_or_own                     2036\nemployment_status               1471\nhhs_geo_region                     0\ncensus_msa                         0\nhousehold_adults                 225\nhousehold_children               225\nemployment_industry            13275\nemployment_occupation          13426\ndtype: int64\n",
          "output_type": "stream"
        },
        {
          "name": "stderr",
          "text": "<ipython-input-3-f5180bb80c10>:9: FutureWarning: The default value of numeric_only in DataFrame.mean is deprecated. In a future version, it will default to False. In addition, specifying 'numeric_only=None' is deprecated. Select only valid columns or specify the value of numeric_only to silence this warning.\n  train_features = train_features.fillna(train_features.mean())\n<ipython-input-3-f5180bb80c10>:10: FutureWarning: The default value of numeric_only in DataFrame.mean is deprecated. In a future version, it will default to False. In addition, specifying 'numeric_only=None' is deprecated. Select only valid columns or specify the value of numeric_only to silence this warning.\n  test_features = test_features.fillna(test_features.mean())\n",
          "output_type": "stream"
        }
      ],
      "execution_count": 3
    },
    {
      "cell_type": "code",
      "source": "X_train, X_val, y_train, y_val = train_test_split(X_scaled, y, test_size=0.2, random_state=42)\n",
      "metadata": {
        "trusted": true
      },
      "outputs": [],
      "execution_count": 4
    },
    {
      "cell_type": "code",
      "source": "\nrf = RandomForestClassifier(n_estimators=100, random_state=42)\nmulti_target_rf = MultiOutputClassifier(rf, n_jobs=-1)\n\nmulti_target_rf.fit(X_train, y_train)\n",
      "metadata": {
        "trusted": true
      },
      "outputs": [
        {
          "execution_count": 5,
          "output_type": "execute_result",
          "data": {
            "text/plain": "MultiOutputClassifier(estimator=RandomForestClassifier(random_state=42),\n                      n_jobs=-1)",
            "text/html": "<style>#sk-container-id-1 {color: black;}#sk-container-id-1 pre{padding: 0;}#sk-container-id-1 div.sk-toggleable {background-color: white;}#sk-container-id-1 label.sk-toggleable__label {cursor: pointer;display: block;width: 100%;margin-bottom: 0;padding: 0.3em;box-sizing: border-box;text-align: center;}#sk-container-id-1 label.sk-toggleable__label-arrow:before {content: \"▸\";float: left;margin-right: 0.25em;color: #696969;}#sk-container-id-1 label.sk-toggleable__label-arrow:hover:before {color: black;}#sk-container-id-1 div.sk-estimator:hover label.sk-toggleable__label-arrow:before {color: black;}#sk-container-id-1 div.sk-toggleable__content {max-height: 0;max-width: 0;overflow: hidden;text-align: left;background-color: #f0f8ff;}#sk-container-id-1 div.sk-toggleable__content pre {margin: 0.2em;color: black;border-radius: 0.25em;background-color: #f0f8ff;}#sk-container-id-1 input.sk-toggleable__control:checked~div.sk-toggleable__content {max-height: 200px;max-width: 100%;overflow: auto;}#sk-container-id-1 input.sk-toggleable__control:checked~label.sk-toggleable__label-arrow:before {content: \"▾\";}#sk-container-id-1 div.sk-estimator input.sk-toggleable__control:checked~label.sk-toggleable__label {background-color: #d4ebff;}#sk-container-id-1 div.sk-label input.sk-toggleable__control:checked~label.sk-toggleable__label {background-color: #d4ebff;}#sk-container-id-1 input.sk-hidden--visually {border: 0;clip: rect(1px 1px 1px 1px);clip: rect(1px, 1px, 1px, 1px);height: 1px;margin: -1px;overflow: hidden;padding: 0;position: absolute;width: 1px;}#sk-container-id-1 div.sk-estimator {font-family: monospace;background-color: #f0f8ff;border: 1px dotted black;border-radius: 0.25em;box-sizing: border-box;margin-bottom: 0.5em;}#sk-container-id-1 div.sk-estimator:hover {background-color: #d4ebff;}#sk-container-id-1 div.sk-parallel-item::after {content: \"\";width: 100%;border-bottom: 1px solid gray;flex-grow: 1;}#sk-container-id-1 div.sk-label:hover label.sk-toggleable__label {background-color: #d4ebff;}#sk-container-id-1 div.sk-serial::before {content: \"\";position: absolute;border-left: 1px solid gray;box-sizing: border-box;top: 0;bottom: 0;left: 50%;z-index: 0;}#sk-container-id-1 div.sk-serial {display: flex;flex-direction: column;align-items: center;background-color: white;padding-right: 0.2em;padding-left: 0.2em;position: relative;}#sk-container-id-1 div.sk-item {position: relative;z-index: 1;}#sk-container-id-1 div.sk-parallel {display: flex;align-items: stretch;justify-content: center;background-color: white;position: relative;}#sk-container-id-1 div.sk-item::before, #sk-container-id-1 div.sk-parallel-item::before {content: \"\";position: absolute;border-left: 1px solid gray;box-sizing: border-box;top: 0;bottom: 0;left: 50%;z-index: -1;}#sk-container-id-1 div.sk-parallel-item {display: flex;flex-direction: column;z-index: 1;position: relative;background-color: white;}#sk-container-id-1 div.sk-parallel-item:first-child::after {align-self: flex-end;width: 50%;}#sk-container-id-1 div.sk-parallel-item:last-child::after {align-self: flex-start;width: 50%;}#sk-container-id-1 div.sk-parallel-item:only-child::after {width: 0;}#sk-container-id-1 div.sk-dashed-wrapped {border: 1px dashed gray;margin: 0 0.4em 0.5em 0.4em;box-sizing: border-box;padding-bottom: 0.4em;background-color: white;}#sk-container-id-1 div.sk-label label {font-family: monospace;font-weight: bold;display: inline-block;line-height: 1.2em;}#sk-container-id-1 div.sk-label-container {text-align: center;}#sk-container-id-1 div.sk-container {/* jupyter's `normalize.less` sets `[hidden] { display: none; }` but bootstrap.min.css set `[hidden] { display: none !important; }` so we also need the `!important` here to be able to override the default hidden behavior on the sphinx rendered scikit-learn.org. See: https://github.com/scikit-learn/scikit-learn/issues/21755 */display: inline-block !important;position: relative;}#sk-container-id-1 div.sk-text-repr-fallback {display: none;}</style><div id=\"sk-container-id-1\" class=\"sk-top-container\"><div class=\"sk-text-repr-fallback\"><pre>MultiOutputClassifier(estimator=RandomForestClassifier(random_state=42),\n                      n_jobs=-1)</pre><b>In a Jupyter environment, please rerun this cell to show the HTML representation or trust the notebook. <br />On GitHub, the HTML representation is unable to render, please try loading this page with nbviewer.org.</b></div><div class=\"sk-container\" hidden><div class=\"sk-item sk-dashed-wrapped\"><div class=\"sk-label-container\"><div class=\"sk-label sk-toggleable\"><input class=\"sk-toggleable__control sk-hidden--visually\" id=\"sk-estimator-id-1\" type=\"checkbox\" ><label for=\"sk-estimator-id-1\" class=\"sk-toggleable__label sk-toggleable__label-arrow\">MultiOutputClassifier</label><div class=\"sk-toggleable__content\"><pre>MultiOutputClassifier(estimator=RandomForestClassifier(random_state=42),\n                      n_jobs=-1)</pre></div></div></div><div class=\"sk-parallel\"><div class=\"sk-parallel-item\"><div class=\"sk-item\"><div class=\"sk-label-container\"><div class=\"sk-label sk-toggleable\"><input class=\"sk-toggleable__control sk-hidden--visually\" id=\"sk-estimator-id-2\" type=\"checkbox\" ><label for=\"sk-estimator-id-2\" class=\"sk-toggleable__label sk-toggleable__label-arrow\">estimator: RandomForestClassifier</label><div class=\"sk-toggleable__content\"><pre>RandomForestClassifier(random_state=42)</pre></div></div></div><div class=\"sk-serial\"><div class=\"sk-item\"><div class=\"sk-estimator sk-toggleable\"><input class=\"sk-toggleable__control sk-hidden--visually\" id=\"sk-estimator-id-3\" type=\"checkbox\" ><label for=\"sk-estimator-id-3\" class=\"sk-toggleable__label sk-toggleable__label-arrow\">RandomForestClassifier</label><div class=\"sk-toggleable__content\"><pre>RandomForestClassifier(random_state=42)</pre></div></div></div></div></div></div></div></div></div></div>"
          },
          "metadata": {}
        }
      ],
      "execution_count": 5
    },
    {
      "cell_type": "code",
      "source": "\ny_val_pred_proba = multi_target_rf.predict_proba(X_val)\n\ny_val_pred_proba_xyz = y_val_pred_proba[0][:, 1]\ny_val_pred_proba_seasonal = y_val_pred_proba[1][:, 1]\n\nroc_auc_xyz = roc_auc_score(y_val['xyz_vaccine'], y_val_pred_proba_xyz)\nroc_auc_seasonal = roc_auc_score(y_val['seasonal_vaccine'], y_val_pred_proba_seasonal)\n\n\nprint(f'ROC AUC score for xyz_vaccine: {roc_auc_xyz}')\nprint(f'ROC AUC score for seasonal_vaccine: {roc_auc_seasonal}')\nprint(f'Mean ROC AUC score: {(roc_auc_xyz + roc_auc_seasonal) / 2}')\n",
      "metadata": {
        "trusted": true
      },
      "outputs": [
        {
          "name": "stdout",
          "text": "ROC AUC score for xyz_vaccine: 0.8612691089092269\nROC AUC score for seasonal_vaccine: 0.8550798698418438\nMean ROC AUC score: 0.8581744893755354\n",
          "output_type": "stream"
        }
      ],
      "execution_count": 6
    },
    {
      "cell_type": "code",
      "source": "\nmulti_target_rf.fit(X_scaled, y)\n",
      "metadata": {
        "trusted": true
      },
      "outputs": [
        {
          "execution_count": 7,
          "output_type": "execute_result",
          "data": {
            "text/plain": "MultiOutputClassifier(estimator=RandomForestClassifier(random_state=42),\n                      n_jobs=-1)",
            "text/html": "<style>#sk-container-id-2 {color: black;}#sk-container-id-2 pre{padding: 0;}#sk-container-id-2 div.sk-toggleable {background-color: white;}#sk-container-id-2 label.sk-toggleable__label {cursor: pointer;display: block;width: 100%;margin-bottom: 0;padding: 0.3em;box-sizing: border-box;text-align: center;}#sk-container-id-2 label.sk-toggleable__label-arrow:before {content: \"▸\";float: left;margin-right: 0.25em;color: #696969;}#sk-container-id-2 label.sk-toggleable__label-arrow:hover:before {color: black;}#sk-container-id-2 div.sk-estimator:hover label.sk-toggleable__label-arrow:before {color: black;}#sk-container-id-2 div.sk-toggleable__content {max-height: 0;max-width: 0;overflow: hidden;text-align: left;background-color: #f0f8ff;}#sk-container-id-2 div.sk-toggleable__content pre {margin: 0.2em;color: black;border-radius: 0.25em;background-color: #f0f8ff;}#sk-container-id-2 input.sk-toggleable__control:checked~div.sk-toggleable__content {max-height: 200px;max-width: 100%;overflow: auto;}#sk-container-id-2 input.sk-toggleable__control:checked~label.sk-toggleable__label-arrow:before {content: \"▾\";}#sk-container-id-2 div.sk-estimator input.sk-toggleable__control:checked~label.sk-toggleable__label {background-color: #d4ebff;}#sk-container-id-2 div.sk-label input.sk-toggleable__control:checked~label.sk-toggleable__label {background-color: #d4ebff;}#sk-container-id-2 input.sk-hidden--visually {border: 0;clip: rect(1px 1px 1px 1px);clip: rect(1px, 1px, 1px, 1px);height: 1px;margin: -1px;overflow: hidden;padding: 0;position: absolute;width: 1px;}#sk-container-id-2 div.sk-estimator {font-family: monospace;background-color: #f0f8ff;border: 1px dotted black;border-radius: 0.25em;box-sizing: border-box;margin-bottom: 0.5em;}#sk-container-id-2 div.sk-estimator:hover {background-color: #d4ebff;}#sk-container-id-2 div.sk-parallel-item::after {content: \"\";width: 100%;border-bottom: 1px solid gray;flex-grow: 1;}#sk-container-id-2 div.sk-label:hover label.sk-toggleable__label {background-color: #d4ebff;}#sk-container-id-2 div.sk-serial::before {content: \"\";position: absolute;border-left: 1px solid gray;box-sizing: border-box;top: 0;bottom: 0;left: 50%;z-index: 0;}#sk-container-id-2 div.sk-serial {display: flex;flex-direction: column;align-items: center;background-color: white;padding-right: 0.2em;padding-left: 0.2em;position: relative;}#sk-container-id-2 div.sk-item {position: relative;z-index: 1;}#sk-container-id-2 div.sk-parallel {display: flex;align-items: stretch;justify-content: center;background-color: white;position: relative;}#sk-container-id-2 div.sk-item::before, #sk-container-id-2 div.sk-parallel-item::before {content: \"\";position: absolute;border-left: 1px solid gray;box-sizing: border-box;top: 0;bottom: 0;left: 50%;z-index: -1;}#sk-container-id-2 div.sk-parallel-item {display: flex;flex-direction: column;z-index: 1;position: relative;background-color: white;}#sk-container-id-2 div.sk-parallel-item:first-child::after {align-self: flex-end;width: 50%;}#sk-container-id-2 div.sk-parallel-item:last-child::after {align-self: flex-start;width: 50%;}#sk-container-id-2 div.sk-parallel-item:only-child::after {width: 0;}#sk-container-id-2 div.sk-dashed-wrapped {border: 1px dashed gray;margin: 0 0.4em 0.5em 0.4em;box-sizing: border-box;padding-bottom: 0.4em;background-color: white;}#sk-container-id-2 div.sk-label label {font-family: monospace;font-weight: bold;display: inline-block;line-height: 1.2em;}#sk-container-id-2 div.sk-label-container {text-align: center;}#sk-container-id-2 div.sk-container {/* jupyter's `normalize.less` sets `[hidden] { display: none; }` but bootstrap.min.css set `[hidden] { display: none !important; }` so we also need the `!important` here to be able to override the default hidden behavior on the sphinx rendered scikit-learn.org. See: https://github.com/scikit-learn/scikit-learn/issues/21755 */display: inline-block !important;position: relative;}#sk-container-id-2 div.sk-text-repr-fallback {display: none;}</style><div id=\"sk-container-id-2\" class=\"sk-top-container\"><div class=\"sk-text-repr-fallback\"><pre>MultiOutputClassifier(estimator=RandomForestClassifier(random_state=42),\n                      n_jobs=-1)</pre><b>In a Jupyter environment, please rerun this cell to show the HTML representation or trust the notebook. <br />On GitHub, the HTML representation is unable to render, please try loading this page with nbviewer.org.</b></div><div class=\"sk-container\" hidden><div class=\"sk-item sk-dashed-wrapped\"><div class=\"sk-label-container\"><div class=\"sk-label sk-toggleable\"><input class=\"sk-toggleable__control sk-hidden--visually\" id=\"sk-estimator-id-4\" type=\"checkbox\" ><label for=\"sk-estimator-id-4\" class=\"sk-toggleable__label sk-toggleable__label-arrow\">MultiOutputClassifier</label><div class=\"sk-toggleable__content\"><pre>MultiOutputClassifier(estimator=RandomForestClassifier(random_state=42),\n                      n_jobs=-1)</pre></div></div></div><div class=\"sk-parallel\"><div class=\"sk-parallel-item\"><div class=\"sk-item\"><div class=\"sk-label-container\"><div class=\"sk-label sk-toggleable\"><input class=\"sk-toggleable__control sk-hidden--visually\" id=\"sk-estimator-id-5\" type=\"checkbox\" ><label for=\"sk-estimator-id-5\" class=\"sk-toggleable__label sk-toggleable__label-arrow\">estimator: RandomForestClassifier</label><div class=\"sk-toggleable__content\"><pre>RandomForestClassifier(random_state=42)</pre></div></div></div><div class=\"sk-serial\"><div class=\"sk-item\"><div class=\"sk-estimator sk-toggleable\"><input class=\"sk-toggleable__control sk-hidden--visually\" id=\"sk-estimator-id-6\" type=\"checkbox\" ><label for=\"sk-estimator-id-6\" class=\"sk-toggleable__label sk-toggleable__label-arrow\">RandomForestClassifier</label><div class=\"sk-toggleable__content\"><pre>RandomForestClassifier(random_state=42)</pre></div></div></div></div></div></div></div></div></div></div>"
          },
          "metadata": {}
        }
      ],
      "execution_count": 7
    },
    {
      "cell_type": "code",
      "source": "\ny_test_pred_proba = multi_target_rf.predict_proba(test_features_scaled)\n\ny_test_pred_proba_xyz = y_test_pred_proba[0][:, 1]\ny_test_pred_proba_seasonal = y_test_pred_proba[1][:, 1]\n\nsubmission = pd.DataFrame({\n    'respondent_id': test_features_ids,\n    'h1n1_vaccine': y_test_pred_proba_xyz,\n    'seasonal_vaccine': y_test_pred_proba_seasonal\n})\n\nsubmission.to_csv('sub.csv', index=False)\n",
      "metadata": {
        "trusted": true
      },
      "outputs": [],
      "execution_count": 10
    }
  ]
}